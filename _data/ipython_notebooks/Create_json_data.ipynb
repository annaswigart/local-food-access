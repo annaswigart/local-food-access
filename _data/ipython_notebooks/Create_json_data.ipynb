{
 "metadata": {
  "name": "",
  "signature": "sha256:0c315cde85f6dd9ce5a0e6938618ee4c066a334727a86ada2d59ba517cb08e40"
 },
 "nbformat": 3,
 "nbformat_minor": 0,
 "worksheets": []
}