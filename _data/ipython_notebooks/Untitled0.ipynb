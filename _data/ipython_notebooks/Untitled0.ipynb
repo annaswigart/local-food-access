{
 "metadata": {
  "name": "",
  "signature": "sha256:853003d570107a4bbc603a66ef62b2f6a7b92c6338b64b75975ff2d37a406e73"
 },
 "nbformat": 3,
 "nbformat_minor": 0,
 "worksheets": [
  {
   "cells": [
    {
     "cell_type": "code",
     "collapsed": false,
     "input": [
      "import pandas as pd\n",
      "import numpy as np\n",
      "import matplotlib.pyplot as plt\n",
      "%matplotlib inline\n",
      "\n",
      "\n",
      "atlas_df = pd.read_csv('food_atlas_local.csv')\n",
      "fruit_df = pd.read_csv('fruit.csv') \n",
      "veg_df = pd.read_csv('vegetables.csv')\n",
      "rural_df = pd.read_csv('ruralurbancodes2013.csv')\n"
     ],
     "language": "python",
     "metadata": {},
     "outputs": [],
     "prompt_number": 6
    },
    {
     "cell_type": "code",
     "collapsed": false,
     "input": [
      "#rename atlas_df column to match other files\n",
      "atlas_df.rename(columns={'id':'FIPS'}, inplace=True)"
     ],
     "language": "python",
     "metadata": {},
     "outputs": [],
     "prompt_number": 8
    },
    {
     "cell_type": "code",
     "collapsed": false,
     "input": [
      "atlas_df.head()"
     ],
     "language": "python",
     "metadata": {},
     "outputs": [
      {
       "html": [
        "<div style=\"max-height:1000px;max-width:1500px;overflow:auto;\">\n",
        "<table border=\"1\" class=\"dataframe\">\n",
        "  <thead>\n",
        "    <tr style=\"text-align: right;\">\n",
        "      <th></th>\n",
        "      <th>FIPS</th>\n",
        "      <th>State</th>\n",
        "      <th>County</th>\n",
        "      <th>DIRSALES_FARMS07</th>\n",
        "      <th>PCT_LOCLFARM07</th>\n",
        "      <th>PCT_LOCLSALE07</th>\n",
        "      <th>DIRSALES07</th>\n",
        "      <th>PC_DIRSALES07</th>\n",
        "      <th>FMRKT09</th>\n",
        "      <th>FMRKT13</th>\n",
        "      <th>PCH_FMRKT_09_13</th>\n",
        "      <th>FMRKTPTH09</th>\n",
        "      <th>FMRKTPTH13</th>\n",
        "      <th>PCH_FMRKTPTH_09_13</th>\n",
        "      <th>FMRKT_SNAP13</th>\n",
        "      <th>PCT_FMRKT_SNAP13</th>\n",
        "      <th>FMRKT_WIC13</th>\n",
        "      <th>PCT_FMRKT_WIC13</th>\n",
        "      <th>FMRKT_WICCASH13</th>\n",
        "      <th>PCT_FMRKT_WICCASH13</th>\n",
        "      <th></th>\n",
        "    </tr>\n",
        "  </thead>\n",
        "  <tbody>\n",
        "    <tr>\n",
        "      <th>0</th>\n",
        "      <td> 1001</td>\n",
        "      <td> AL</td>\n",
        "      <td> Autauga</td>\n",
        "      <td> 25</td>\n",
        "      <td> 6.0</td>\n",
        "      <td> 0.6</td>\n",
        "      <td> 100</td>\n",
        "      <td> 2.01</td>\n",
        "      <td> 2</td>\n",
        "      <td> 1</td>\n",
        "      <td>-50</td>\n",
        "      <td> 0.039404</td>\n",
        "      <td> 0.018013</td>\n",
        "      <td>-54.285405</td>\n",
        "      <td> 0</td>\n",
        "      <td> 0</td>\n",
        "      <td> 0</td>\n",
        "      <td>   0</td>\n",
        "      <td> 0</td>\n",
        "      <td> 0</td>\n",
        "      <td>...</td>\n",
        "    </tr>\n",
        "    <tr>\n",
        "      <th>1</th>\n",
        "      <td> 1003</td>\n",
        "      <td> AL</td>\n",
        "      <td> Baldwin</td>\n",
        "      <td> 80</td>\n",
        "      <td> 7.0</td>\n",
        "      <td> 0.7</td>\n",
        "      <td> 715</td>\n",
        "      <td> 4.16</td>\n",
        "      <td> 4</td>\n",
        "      <td> 4</td>\n",
        "      <td>  0</td>\n",
        "      <td> 0.022237</td>\n",
        "      <td> 0.020965</td>\n",
        "      <td> -5.719377</td>\n",
        "      <td> 0</td>\n",
        "      <td> 0</td>\n",
        "      <td> 0</td>\n",
        "      <td>   0</td>\n",
        "      <td> 0</td>\n",
        "      <td> 0</td>\n",
        "      <td>...</td>\n",
        "    </tr>\n",
        "    <tr>\n",
        "      <th>2</th>\n",
        "      <td> 1005</td>\n",
        "      <td> AL</td>\n",
        "      <td> Barbour</td>\n",
        "      <td> 18</td>\n",
        "      <td> 2.9</td>\n",
        "      <td> 0.0</td>\n",
        "      <td>  11</td>\n",
        "      <td> 0.37</td>\n",
        "      <td> 2</td>\n",
        "      <td> 3</td>\n",
        "      <td> 50</td>\n",
        "      <td> 0.067256</td>\n",
        "      <td> 0.110290</td>\n",
        "      <td> 63.984780</td>\n",
        "      <td> 0</td>\n",
        "      <td> 0</td>\n",
        "      <td> 0</td>\n",
        "      <td>   0</td>\n",
        "      <td> 0</td>\n",
        "      <td> 0</td>\n",
        "      <td>...</td>\n",
        "    </tr>\n",
        "    <tr>\n",
        "      <th>3</th>\n",
        "      <td> 1007</td>\n",
        "      <td> AL</td>\n",
        "      <td>    Bibb</td>\n",
        "      <td> 12</td>\n",
        "      <td> 5.7</td>\n",
        "      <td> NaN</td>\n",
        "      <td>  46</td>\n",
        "      <td> 2.14</td>\n",
        "      <td> 1</td>\n",
        "      <td> 1</td>\n",
        "      <td>  0</td>\n",
        "      <td> 0.046324</td>\n",
        "      <td> 0.044254</td>\n",
        "      <td> -4.469620</td>\n",
        "      <td> 0</td>\n",
        "      <td> 0</td>\n",
        "      <td> 0</td>\n",
        "      <td>   0</td>\n",
        "      <td> 0</td>\n",
        "      <td> 0</td>\n",
        "      <td>...</td>\n",
        "    </tr>\n",
        "    <tr>\n",
        "      <th>4</th>\n",
        "      <td> 1009</td>\n",
        "      <td> AL</td>\n",
        "      <td>  Blount</td>\n",
        "      <td> 84</td>\n",
        "      <td> 5.9</td>\n",
        "      <td> 0.3</td>\n",
        "      <td> 429</td>\n",
        "      <td> 7.59</td>\n",
        "      <td> 1</td>\n",
        "      <td> 1</td>\n",
        "      <td>  0</td>\n",
        "      <td> 0.017139</td>\n",
        "      <td> 0.017293</td>\n",
        "      <td>  0.897520</td>\n",
        "      <td> 0</td>\n",
        "      <td> 0</td>\n",
        "      <td> 1</td>\n",
        "      <td> 100</td>\n",
        "      <td> 0</td>\n",
        "      <td> 0</td>\n",
        "      <td>...</td>\n",
        "    </tr>\n",
        "  </tbody>\n",
        "</table>\n",
        "<p>5 rows \u00d7 49 columns</p>\n",
        "</div>"
       ],
       "metadata": {},
       "output_type": "pyout",
       "prompt_number": 9,
       "text": [
        "   FIPS State   County  DIRSALES_FARMS07  PCT_LOCLFARM07  PCT_LOCLSALE07  \\\n",
        "0  1001    AL  Autauga                25             6.0             0.6   \n",
        "1  1003    AL  Baldwin                80             7.0             0.7   \n",
        "2  1005    AL  Barbour                18             2.9             0.0   \n",
        "3  1007    AL     Bibb                12             5.7             NaN   \n",
        "4  1009    AL   Blount                84             5.9             0.3   \n",
        "\n",
        "   DIRSALES07  PC_DIRSALES07  FMRKT09  FMRKT13  PCH_FMRKT_09_13  FMRKTPTH09  \\\n",
        "0         100           2.01        2        1              -50    0.039404   \n",
        "1         715           4.16        4        4                0    0.022237   \n",
        "2          11           0.37        2        3               50    0.067256   \n",
        "3          46           2.14        1        1                0    0.046324   \n",
        "4         429           7.59        1        1                0    0.017139   \n",
        "\n",
        "   FMRKTPTH13  PCH_FMRKTPTH_09_13  FMRKT_SNAP13  PCT_FMRKT_SNAP13  \\\n",
        "0    0.018013          -54.285405             0                 0   \n",
        "1    0.020965           -5.719377             0                 0   \n",
        "2    0.110290           63.984780             0                 0   \n",
        "3    0.044254           -4.469620             0                 0   \n",
        "4    0.017293            0.897520             0                 0   \n",
        "\n",
        "   FMRKT_WIC13  PCT_FMRKT_WIC13  FMRKT_WICCASH13  PCT_FMRKT_WICCASH13      \n",
        "0            0                0                0                    0 ...  \n",
        "1            0                0                0                    0 ...  \n",
        "2            0                0                0                    0 ...  \n",
        "3            0                0                0                    0 ...  \n",
        "4            1              100                0                    0 ...  \n",
        "\n",
        "[5 rows x 49 columns]"
       ]
      }
     ],
     "prompt_number": 9
    },
    {
     "cell_type": "code",
     "collapsed": false,
     "input": [
      "print len(fruit_df)\n",
      "print len(veg_df)\n",
      "print len(atlas_df)\n",
      "print len(rural_df)"
     ],
     "language": "python",
     "metadata": {},
     "outputs": [
      {
       "output_type": "stream",
       "stream": "stdout",
       "text": [
        "2634\n",
        "2788\n",
        "3178\n",
        "3221\n"
       ]
      }
     ],
     "prompt_number": 13
    },
    {
     "cell_type": "code",
     "collapsed": false,
     "input": [
      "master_df = pd.merge(atlas_df, rural_df, on='FIPS', how='outer')\n",
      "len(master_df)"
     ],
     "language": "python",
     "metadata": {},
     "outputs": [
      {
       "metadata": {},
       "output_type": "pyout",
       "prompt_number": 21,
       "text": [
        "3256"
       ]
      }
     ],
     "prompt_number": 21
    },
    {
     "cell_type": "code",
     "collapsed": false,
     "input": [
      "master_df = pd.merge(master_df, veg_df, on='FIPS', how='outer')\n",
      "len(master_df)"
     ],
     "language": "python",
     "metadata": {},
     "outputs": [
      {
       "metadata": {},
       "output_type": "pyout",
       "prompt_number": 22,
       "text": [
        "3256"
       ]
      }
     ],
     "prompt_number": 22
    },
    {
     "cell_type": "code",
     "collapsed": false,
     "input": [
      "master_df = pd.merge(master_df, fruit_df, on='FIPS', how='outer')\n",
      "len(master_df)"
     ],
     "language": "python",
     "metadata": {},
     "outputs": [
      {
       "metadata": {},
       "output_type": "pyout",
       "prompt_number": 23,
       "text": [
        "3256"
       ]
      }
     ],
     "prompt_number": 23
    },
    {
     "cell_type": "code",
     "collapsed": false,
     "input": [
      "master_df.to_csv('master_data.csv')"
     ],
     "language": "python",
     "metadata": {},
     "outputs": [],
     "prompt_number": 24
    }
   ],
   "metadata": {}
  }
 ]
}